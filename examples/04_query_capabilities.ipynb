{
 "cells": [
  {
   "cell_type": "markdown",
   "metadata": {},
   "source": [
    "# TrashPandas: Query Capabilities\n",
    "\n",
    "Advanced querying features for SQL storage."
   ]
  },
  {
   "cell_type": "markdown",
   "metadata": {},
   "source": [
    "## Imports"
   ]
  },
  {
   "cell_type": "code",
   "execution_count": 1,
   "metadata": {
    "execution": {
     "iopub.execute_input": "2025-10-28T00:50:08.999216Z",
     "iopub.status.busy": "2025-10-28T00:50:08.999126Z",
     "iopub.status.idle": "2025-10-28T00:50:09.402979Z",
     "shell.execute_reply": "2025-10-28T00:50:09.402629Z"
    }
   },
   "outputs": [],
   "source": [
    "import pandas as pd\n",
    "\n",
    "import trashpandas as tp\n"
   ]
  },
  {
   "cell_type": "markdown",
   "metadata": {},
   "source": [
    "## Basic Queries"
   ]
  },
  {
   "cell_type": "code",
   "execution_count": 2,
   "metadata": {
    "execution": {
     "iopub.execute_input": "2025-10-28T00:50:09.404809Z",
     "iopub.status.busy": "2025-10-28T00:50:09.404673Z",
     "iopub.status.idle": "2025-10-28T00:50:09.423898Z",
     "shell.execute_reply": "2025-10-28T00:50:09.423370Z"
    }
   },
   "outputs": [
    {
     "name": "stdout",
     "output_type": "stream",
     "text": [
      "All users: 5 rows\n",
      "   id     name  age city  active\n",
      "0   1    Alice   25  NYC    True\n",
      "1   2      Bob   30   SF    True\n",
      "2   3  Charlie   35  NYC   False\n",
      "3   4    Diana   28   LA    True\n",
      "4   5      Eve   32  NYC    True\n"
     ]
    }
   ],
   "source": [
    "# Create comprehensive sample data\n",
    "users = pd.DataFrame({\n",
    "    \"id\": [1, 2, 3, 4, 5],\n",
    "    \"name\": [\"Alice\", \"Bob\", \"Charlie\", \"Diana\", \"Eve\"],\n",
    "    \"age\": [25, 30, 35, 28, 32],\n",
    "    \"city\": [\"NYC\", \"SF\", \"NYC\", \"LA\", \"NYC\"],\n",
    "    \"active\": [True, True, False, True, True],\n",
    "})\n",
    "\n",
    "with tp.SqlStorage(\"sqlite:///./query_demo.db\") as storage:\n",
    "    storage[\"users\"] = users\n",
    "\n",
    "    # Get all data\n",
    "    all_users = storage.query(\"users\")\n",
    "    print(f\"All users: {len(all_users)} rows\")\n",
    "    print(all_users)"
   ]
  },
  {
   "cell_type": "markdown",
   "metadata": {},
   "source": [
    "## Filtering with WHERE Clause"
   ]
  },
  {
   "cell_type": "code",
   "execution_count": 3,
   "metadata": {
    "execution": {
     "iopub.execute_input": "2025-10-28T00:50:09.441364Z",
     "iopub.status.busy": "2025-10-28T00:50:09.441241Z",
     "iopub.status.idle": "2025-10-28T00:50:09.455216Z",
     "shell.execute_reply": "2025-10-28T00:50:09.454815Z"
    }
   },
   "outputs": [
    {
     "name": "stdout",
     "output_type": "stream",
     "text": [
      "Users under 30:\n",
      "   id   name  age city  active\n",
      "0   1  Alice   25  NYC    True\n",
      "3   4  Diana   28   LA    True\n",
      "\n",
      "Users in NYC:\n",
      "   id     name  age city  active\n",
      "0   1    Alice   25  NYC    True\n",
      "2   3  Charlie   35  NYC   False\n",
      "4   5      Eve   32  NYC    True\n",
      "\n",
      "Active users:\n",
      "   id   name  age city  active\n",
      "0   1  Alice   25  NYC    True\n",
      "1   2    Bob   30   SF    True\n",
      "3   4  Diana   28   LA    True\n",
      "4   5    Eve   32  NYC    True\n"
     ]
    }
   ],
   "source": [
    "with tp.SqlStorage(\"sqlite:///./query_demo.db\") as storage:\n",
    "    # Filter by age\n",
    "    young_users = storage.query(\"users\", where_clause=\"age < 30\")\n",
    "    print(\"Users under 30:\")\n",
    "    print(young_users)\n",
    "\n",
    "    # Filter by city\n",
    "    nyc_users = storage.query(\"users\", where_clause=\"city = 'NYC'\")\n",
    "    print(\"\\nUsers in NYC:\")\n",
    "    print(nyc_users)\n",
    "\n",
    "    # Filter by boolean\n",
    "    active_users = storage.query(\"users\", where_clause=\"active = 1\")\n",
    "    print(\"\\nActive users:\")\n",
    "    print(active_users)"
   ]
  },
  {
   "cell_type": "markdown",
   "metadata": {},
   "source": [
    "## Selecting Specific Columns"
   ]
  },
  {
   "cell_type": "code",
   "execution_count": 4,
   "metadata": {
    "execution": {
     "iopub.execute_input": "2025-10-28T00:50:09.456506Z",
     "iopub.status.busy": "2025-10-28T00:50:09.456428Z",
     "iopub.status.idle": "2025-10-28T00:50:09.460888Z",
     "shell.execute_reply": "2025-10-28T00:50:09.460046Z"
    }
   },
   "outputs": [
    {
     "name": "stdout",
     "output_type": "stream",
     "text": [
      "Names and cities:\n",
      "      name city\n",
      "0    Alice  NYC\n",
      "1      Bob   SF\n",
      "2  Charlie  NYC\n",
      "3    Diana   LA\n",
      "4      Eve  NYC\n"
     ]
    }
   ],
   "source": [
    "with tp.SqlStorage(\"sqlite:///./query_demo.db\") as storage:\n",
    "    # Get only name and email\n",
    "    names = storage.query(\"users\", columns=[\"name\", \"city\"])\n",
    "    print(\"Names and cities:\")\n",
    "    print(names)"
   ]
  },
  {
   "cell_type": "markdown",
   "metadata": {},
   "source": [
    "## Limiting Results"
   ]
  },
  {
   "cell_type": "code",
   "execution_count": 5,
   "metadata": {
    "execution": {
     "iopub.execute_input": "2025-10-28T00:50:09.462852Z",
     "iopub.status.busy": "2025-10-28T00:50:09.462770Z",
     "iopub.status.idle": "2025-10-28T00:50:09.468146Z",
     "shell.execute_reply": "2025-10-28T00:50:09.467797Z"
    }
   },
   "outputs": [
    {
     "name": "stdout",
     "output_type": "stream",
     "text": [
      "First 3 users:\n",
      "   id     name  age city  active\n",
      "0   1    Alice   25  NYC    True\n",
      "1   2      Bob   30   SF    True\n",
      "2   3  Charlie   35  NYC   False\n"
     ]
    }
   ],
   "source": [
    "with tp.SqlStorage(\"sqlite:///./query_demo.db\") as storage:\n",
    "    # Get first 3 users\n",
    "    top_users = storage.query(\"users\", limit=3)\n",
    "    print(\"First 3 users:\")\n",
    "    print(top_users)"
   ]
  }
 ],
 "metadata": {
  "kernelspec": {
   "display_name": "Python 3",
   "language": "python",
   "name": "python3"
  },
  "language_info": {
   "codemirror_mode": {
    "name": "ipython",
    "version": 3
   },
   "file_extension": ".py",
   "mimetype": "text/x-python",
   "name": "python",
   "nbconvert_exporter": "python",
   "pygments_lexer": "ipython3",
   "version": "3.11.13"
  }
 },
 "nbformat": 4,
 "nbformat_minor": 4
}
