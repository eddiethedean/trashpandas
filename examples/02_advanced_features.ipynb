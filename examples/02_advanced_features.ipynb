{
 "cells": [
  {
   "cell_type": "markdown",
   "metadata": {},
   "source": [
    "# TrashPandas: Advanced Features\n",
    "\n",
    "This notebook demonstrates advanced features of TrashPandas."
   ]
  },
  {
   "cell_type": "markdown",
   "metadata": {},
   "source": [
    "## Imports"
   ]
  },
  {
   "cell_type": "code",
   "execution_count": 1,
   "metadata": {
    "execution": {
     "iopub.execute_input": "2025-10-28T00:50:02.996707Z",
     "iopub.status.busy": "2025-10-28T00:50:02.996338Z",
     "iopub.status.idle": "2025-10-28T00:50:03.459095Z",
     "shell.execute_reply": "2025-10-28T00:50:03.458629Z"
    }
   },
   "outputs": [],
   "source": [
    "import pandas as pd\n",
    "\n",
    "import trashpandas as tp\n"
   ]
  },
  {
   "cell_type": "markdown",
   "metadata": {},
   "source": [
    "## Compression Support"
   ]
  },
  {
   "cell_type": "code",
   "execution_count": 2,
   "metadata": {
    "execution": {
     "iopub.execute_input": "2025-10-28T00:50:03.460542Z",
     "iopub.status.busy": "2025-10-28T00:50:03.460369Z",
     "iopub.status.idle": "2025-10-28T00:50:03.470287Z",
     "shell.execute_reply": "2025-10-28T00:50:03.469967Z"
    }
   },
   "outputs": [
    {
     "name": "stdout",
     "output_type": "stream",
     "text": [
      "Successfully loaded 1000 rows from compressed file\n"
     ]
    }
   ],
   "source": [
    "# Create sample data\n",
    "large_df = pd.DataFrame({\n",
    "    \"id\": range(1000),\n",
    "    \"value\": range(1000),\n",
    "    \"text\": [\"x\"] * 1000,\n",
    "})\n",
    "\n",
    "# Store with gzip compression\n",
    "with tp.CsvStorage(\"./data_compressed\", compression=\"gzip\") as storage:\n",
    "    storage[\"large_data\"] = large_df\n",
    "\n",
    "    # Load compressed data (automatic detection)\n",
    "    loaded = storage[\"large_data\"]\n",
    "    print(f\"Successfully loaded {len(loaded)} rows from compressed file\")"
   ]
  },
  {
   "cell_type": "markdown",
   "metadata": {},
   "source": [
    "## Bulk Operations"
   ]
  },
  {
   "cell_type": "code",
   "execution_count": 3,
   "metadata": {
    "execution": {
     "iopub.execute_input": "2025-10-28T00:50:03.484583Z",
     "iopub.status.busy": "2025-10-28T00:50:03.484504Z",
     "iopub.status.idle": "2025-10-28T00:50:03.516969Z",
     "shell.execute_reply": "2025-10-28T00:50:03.516649Z"
    }
   },
   "outputs": [
    {
     "name": "stdout",
     "output_type": "stream",
     "text": [
      "Stored 3 tables\n",
      "Loaded 3 tables\n",
      "After deletion: 2 tables\n"
     ]
    }
   ],
   "source": [
    "# Create multiple DataFrames\n",
    "users = pd.DataFrame({\"id\": [1, 2], \"name\": [\"Alice\", \"Bob\"]})\n",
    "products = pd.DataFrame({\"id\": [1, 2], \"name\": [\"Widget\", \"Gadget\"]})\n",
    "orders = pd.DataFrame({\"id\": [1, 2], \"user_id\": [1, 2]})\n",
    "\n",
    "all_data = {\"users\": users, \"products\": products, \"orders\": orders}\n",
    "\n",
    "with tp.SqlStorage(\"sqlite:///./bulk.db\") as storage:\n",
    "    # Store many at once\n",
    "    storage.store_many(all_data)\n",
    "    print(f\"Stored {len(storage)} tables\")\n",
    "\n",
    "    # Load many at once\n",
    "    loaded = storage.load_many([\"users\", \"products\", \"orders\"])\n",
    "    print(f\"Loaded {len(loaded)} tables\")\n",
    "\n",
    "    # Delete many at once\n",
    "    storage.delete_many([\"orders\"])\n",
    "    print(f\"After deletion: {len(storage)} tables\")"
   ]
  },
  {
   "cell_type": "markdown",
   "metadata": {},
   "source": [
    "## Data Type Preservation"
   ]
  },
  {
   "cell_type": "code",
   "execution_count": 4,
   "metadata": {
    "execution": {
     "iopub.execute_input": "2025-10-28T00:50:03.518167Z",
     "iopub.status.busy": "2025-10-28T00:50:03.518092Z",
     "iopub.status.idle": "2025-10-28T00:50:03.525269Z",
     "shell.execute_reply": "2025-10-28T00:50:03.524943Z"
    }
   },
   "outputs": [
    {
     "name": "stdout",
     "output_type": "stream",
     "text": [
      "Original data types:\n",
      "int_col               int64\n",
      "float_col           float64\n",
      "str_col              object\n",
      "bool_col               bool\n",
      "date_col     datetime64[ns]\n",
      "dtype: object\n",
      "\n",
      "Loaded data types:\n",
      "int_col               int64\n",
      "float_col           float64\n",
      "str_col              object\n",
      "bool_col               bool\n",
      "date_col     datetime64[ns]\n",
      "dtype: object\n",
      "\n",
      "Data types preserved:\n",
      "True\n"
     ]
    }
   ],
   "source": [
    "# Create DataFrame with various types\n",
    "df = pd.DataFrame({\n",
    "    \"int_col\": [1, 2, 3],\n",
    "    \"float_col\": [1.1, 2.2, 3.3],\n",
    "    \"str_col\": [\"a\", \"b\", \"c\"],\n",
    "    \"bool_col\": [True, False, True],\n",
    "    \"date_col\": pd.to_datetime([\"2023-01-01\", \"2023-01-02\", \"2023-01-03\"]),\n",
    "})\n",
    "\n",
    "print(\"Original data types:\")\n",
    "print(df.dtypes)\n",
    "\n",
    "with tp.PickleStorage(\"./data_types\") as storage:\n",
    "    storage[\"typed_data\"] = df\n",
    "    loaded = storage[\"typed_data\"]\n",
    "\n",
    "    print(\"\\nLoaded data types:\")\n",
    "    print(loaded.dtypes)\n",
    "\n",
    "    print(\"\\nData types preserved:\")\n",
    "    print(df.dtypes.equals(loaded.dtypes))"
   ]
  }
 ],
 "metadata": {
  "kernelspec": {
   "display_name": "Python 3",
   "language": "python",
   "name": "python3"
  },
  "language_info": {
   "codemirror_mode": {
    "name": "ipython",
    "version": 3
   },
   "file_extension": ".py",
   "mimetype": "text/x-python",
   "name": "python",
   "nbconvert_exporter": "python",
   "pygments_lexer": "ipython3",
   "version": "3.11.13"
  }
 },
 "nbformat": 4,
 "nbformat_minor": 4
}
