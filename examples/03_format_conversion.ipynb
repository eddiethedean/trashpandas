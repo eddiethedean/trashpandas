{
 "cells": [
  {
   "cell_type": "markdown",
   "metadata": {},
   "source": [
    "# TrashPandas: Format Conversion\n",
    "\n",
    "Convert DataFrames between different storage formats."
   ]
  },
  {
   "cell_type": "markdown",
   "metadata": {},
   "source": [
    "## Imports"
   ]
  },
  {
   "cell_type": "code",
   "execution_count": 1,
   "metadata": {
    "execution": {
     "iopub.execute_input": "2025-10-28T00:50:05.939734Z",
     "iopub.status.busy": "2025-10-28T00:50:05.939518Z",
     "iopub.status.idle": "2025-10-28T00:50:06.384964Z",
     "shell.execute_reply": "2025-10-28T00:50:06.384419Z"
    }
   },
   "outputs": [],
   "source": [
    "import pandas as pd\n",
    "import trashpandas as tp\n"
   ]
  },
  {
   "cell_type": "markdown",
   "metadata": {},
   "source": [
    "## Converting Between Formats"
   ]
  },
  {
   "cell_type": "code",
   "execution_count": 2,
   "metadata": {
    "execution": {
     "iopub.execute_input": "2025-10-28T00:50:06.386582Z",
     "iopub.status.busy": "2025-10-28T00:50:06.386444Z",
     "iopub.status.idle": "2025-10-28T00:50:06.409981Z",
     "shell.execute_reply": "2025-10-28T00:50:06.409520Z"
    }
   },
   "outputs": [
    {
     "name": "stdout",
     "output_type": "stream",
     "text": [
      "Converted from CSV to SQL\n",
      "\n",
      "Loaded from converted SQL database:\n",
      "   id     name  age\n",
      "0   1    Alice   25\n",
      "1   2      Bob   30\n",
      "2   3  Charlie   35\n"
     ]
    }
   ],
   "source": [
    "# Create sample data\n",
    "df = pd.DataFrame({\n",
    "    'id': [1, 2, 3],\n",
    "    'name': ['Alice', 'Bob', 'Charlie'],\n",
    "    'age': [25, 30, 35]\n",
    "})\n",
    "\n",
    "# Store in CSV first\n",
    "with tp.CsvStorage('./data_conversion') as csv_storage:\n",
    "    csv_storage['users'] = df\n",
    "    \n",
    "    # Convert CSV to SQL\n",
    "    tp.csv_to_sql('users', './data_conversion', 'sqlite:///./converted.db')\n",
    "    print(\"Converted from CSV to SQL\")\n",
    "    \n",
    "    # Load from SQL to verify\n",
    "    with tp.SqlStorage('sqlite:///./converted.db') as sql_storage:\n",
    "        loaded = sql_storage['users']\n",
    "        print(\"\\nLoaded from converted SQL database:\")\n",
    "        print(loaded)"
   ]
  },
  {
   "cell_type": "markdown",
   "metadata": {},
   "source": [
    "## Batch Conversion"
   ]
  },
  {
   "cell_type": "code",
   "execution_count": 3,
   "metadata": {
    "execution": {
     "iopub.execute_input": "2025-10-28T00:50:06.424209Z",
     "iopub.status.busy": "2025-10-28T00:50:06.424106Z",
     "iopub.status.idle": "2025-10-28T00:50:06.442120Z",
     "shell.execute_reply": "2025-10-28T00:50:06.441700Z"
    }
   },
   "outputs": [
    {
     "name": "stdout",
     "output_type": "stream",
     "text": [
      "Batch conversion complete\n",
      "Converted 2 tables\n"
     ]
    }
   ],
   "source": [
    "# Create multiple DataFrames\n",
    "users = pd.DataFrame({'id': [1, 2], 'name': ['Alice', 'Bob']})\n",
    "products = pd.DataFrame({'id': [1, 2], 'name': ['Widget', 'Gadget']})\n",
    "\n",
    "with tp.CsvStorage('./data_batch') as csv_storage:\n",
    "    csv_storage['users'] = users\n",
    "    csv_storage['products'] = products\n",
    "    \n",
    "    # Convert all tables from CSV to SQL\n",
    "    tp.csv_to_sql_all('./data_batch', 'sqlite:///./batch_converted.db')\n",
    "    print(\"Batch conversion complete\")\n",
    "    \n",
    "    # Verify\n",
    "    with tp.SqlStorage('sqlite:///./batch_converted.db') as sql_storage:\n",
    "        print(f\"Converted {len(sql_storage)} tables\")"
   ]
  }
 ],
 "metadata": {
  "kernelspec": {
   "display_name": "Python 3",
   "language": "python",
   "name": "python3"
  },
  "language_info": {
   "codemirror_mode": {
    "name": "ipython",
    "version": 3
   },
   "file_extension": ".py",
   "mimetype": "text/x-python",
   "name": "python",
   "nbconvert_exporter": "python",
   "pygments_lexer": "ipython3",
   "version": "3.11.13"
  }
 },
 "nbformat": 4,
 "nbformat_minor": 4
}
