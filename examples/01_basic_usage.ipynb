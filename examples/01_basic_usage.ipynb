{
 "cells": [
  {
   "cell_type": "markdown",
   "metadata": {},
   "source": [
    "# TrashPandas: Basic Usage\n",
    "\n",
    "This notebook demonstrates the basic usage of TrashPandas."
   ]
  },
  {
   "cell_type": "markdown",
   "metadata": {},
   "source": [
    "## Installation and Imports"
   ]
  },
  {
   "cell_type": "code",
   "execution_count": 1,
   "metadata": {
    "execution": {
     "iopub.execute_input": "2025-10-28T00:49:55.728998Z",
     "iopub.status.busy": "2025-10-28T00:49:55.728757Z",
     "iopub.status.idle": "2025-10-28T00:49:56.482053Z",
     "shell.execute_reply": "2025-10-28T00:49:56.481652Z"
    }
   },
   "outputs": [
    {
     "name": "stdout",
     "output_type": "stream",
     "text": [
      "TrashPandas version: 1.0.0\n",
      "Pandas version: 2.3.3\n"
     ]
    }
   ],
   "source": [
    "import pandas as pd\n",
    "\n",
    "import trashpandas as tp\n",
    "\n",
    "print(f\"TrashPandas version: {tp.__version__}\")\n",
    "print(f\"Pandas version: {pd.__version__}\")"
   ]
  },
  {
   "cell_type": "markdown",
   "metadata": {},
   "source": [
    "## Creating Sample Data"
   ]
  },
  {
   "cell_type": "code",
   "execution_count": 2,
   "metadata": {
    "execution": {
     "iopub.execute_input": "2025-10-28T00:49:56.497730Z",
     "iopub.status.busy": "2025-10-28T00:49:56.497576Z",
     "iopub.status.idle": "2025-10-28T00:49:56.503397Z",
     "shell.execute_reply": "2025-10-28T00:49:56.502952Z"
    }
   },
   "outputs": [
    {
     "name": "stdout",
     "output_type": "stream",
     "text": [
      "Sample DataFrame created:\n",
      "   id     name  age                email  active\n",
      "0   1    Alice   25    alice@example.com    True\n",
      "1   2      Bob   30      bob@example.com    True\n",
      "2   3  Charlie   35  charlie@example.com   False\n",
      "3   4    Diana   28    diana@example.com    True\n",
      "4   5      Eve   32      eve@example.com    True\n"
     ]
    }
   ],
   "source": [
    "# Create sample DataFrames\n",
    "users_df = pd.DataFrame({\n",
    "    \"id\": [1, 2, 3, 4, 5],\n",
    "    \"name\": [\"Alice\", \"Bob\", \"Charlie\", \"Diana\", \"Eve\"],\n",
    "    \"age\": [25, 30, 35, 28, 32],\n",
    "    \"email\": [\"alice@example.com\", \"bob@example.com\", \"charlie@example.com\",\n",
    "              \"diana@example.com\", \"eve@example.com\"],\n",
    "    \"active\": [True, True, False, True, True],\n",
    "})\n",
    "\n",
    "print(\"Sample DataFrame created:\")\n",
    "print(users_df)"
   ]
  },
  {
   "cell_type": "markdown",
   "metadata": {},
   "source": [
    "## 1. CSV Storage"
   ]
  },
  {
   "cell_type": "code",
   "execution_count": 3,
   "metadata": {
    "execution": {
     "iopub.execute_input": "2025-10-28T00:49:56.504344Z",
     "iopub.status.busy": "2025-10-28T00:49:56.504281Z",
     "iopub.status.idle": "2025-10-28T00:49:56.517958Z",
     "shell.execute_reply": "2025-10-28T00:49:56.517603Z"
    }
   },
   "outputs": [
    {
     "name": "stdout",
     "output_type": "stream",
     "text": [
      "Stored 1 tables\n",
      "Table names: ['users']\n",
      "\n",
      "Loaded DataFrame:\n",
      "   id     name  age                email  active\n",
      "0   1    Alice   25    alice@example.com    True\n",
      "1   2      Bob   30      bob@example.com    True\n",
      "2   3  Charlie   35  charlie@example.com   False\n",
      "3   4    Diana   28    diana@example.com    True\n",
      "4   5      Eve   32      eve@example.com    True\n",
      "\n",
      "DataFrames match: True\n"
     ]
    }
   ],
   "source": [
    "# Using context manager (recommended)\n",
    "with tp.CsvStorage(\"./data_csv\") as csv_storage:\n",
    "    # Store DataFrame\n",
    "    csv_storage[\"users\"] = users_df\n",
    "\n",
    "    # Check how many tables we have\n",
    "    print(f\"Stored {len(csv_storage)} tables\")\n",
    "    print(f\"Table names: {list(csv_storage)}\")\n",
    "\n",
    "    # Retrieve DataFrame\n",
    "    loaded_users = csv_storage[\"users\"]\n",
    "\n",
    "    print(\"\\nLoaded DataFrame:\")\n",
    "    print(loaded_users)\n",
    "\n",
    "    # Verify data integrity\n",
    "    print(\"\\nDataFrames match:\", users_df.equals(loaded_users))"
   ]
  },
  {
   "cell_type": "markdown",
   "metadata": {},
   "source": [
    "## 2. SQL Storage"
   ]
  },
  {
   "cell_type": "code",
   "execution_count": 4,
   "metadata": {
    "execution": {
     "iopub.execute_input": "2025-10-28T00:49:56.519003Z",
     "iopub.status.busy": "2025-10-28T00:49:56.518933Z",
     "iopub.status.idle": "2025-10-28T00:49:56.545428Z",
     "shell.execute_reply": "2025-10-28T00:49:56.544985Z"
    }
   },
   "outputs": [
    {
     "name": "stdout",
     "output_type": "stream",
     "text": [
      "Stored 1 tables\n",
      "\n",
      "Loaded from SQL:\n",
      "   id     name  age                email  active\n",
      "0   1    Alice   25    alice@example.com    True\n",
      "1   2      Bob   30      bob@example.com    True\n",
      "2   3  Charlie   35  charlie@example.com   False\n",
      "3   4    Diana   28    diana@example.com    True\n",
      "4   5      Eve   32      eve@example.com    True\n",
      "\n",
      "Active users:\n",
      "   id   name  age              email  active\n",
      "0   1  Alice   25  alice@example.com    True\n",
      "1   2    Bob   30    bob@example.com    True\n",
      "3   4  Diana   28  diana@example.com    True\n",
      "4   5    Eve   32    eve@example.com    True\n"
     ]
    }
   ],
   "source": [
    "# SQLite database\n",
    "with tp.SqlStorage(\"sqlite:///./data_sql.db\") as sql_storage:\n",
    "    # Store DataFrame\n",
    "    sql_storage[\"users\"] = users_df\n",
    "\n",
    "    print(f\"Stored {len(sql_storage)} tables\")\n",
    "\n",
    "    # Load DataFrame\n",
    "    loaded_users = sql_storage[\"users\"]\n",
    "    print(\"\\nLoaded from SQL:\")\n",
    "    print(loaded_users)\n",
    "\n",
    "    # Query with filtering\n",
    "    active_users = sql_storage.query(\"users\", where_clause=\"active = 1\")\n",
    "    print(\"\\nActive users:\")\n",
    "    print(active_users)"
   ]
  },
  {
   "cell_type": "markdown",
   "metadata": {},
   "source": [
    "## 3. Pickle Storage"
   ]
  },
  {
   "cell_type": "code",
   "execution_count": 5,
   "metadata": {
    "execution": {
     "iopub.execute_input": "2025-10-28T00:49:56.546365Z",
     "iopub.status.busy": "2025-10-28T00:49:56.546300Z",
     "iopub.status.idle": "2025-10-28T00:49:56.550350Z",
     "shell.execute_reply": "2025-10-28T00:49:56.549976Z"
    }
   },
   "outputs": [
    {
     "name": "stdout",
     "output_type": "stream",
     "text": [
      "Stored 1 tables\n",
      "\n",
      "Loaded from Pickle:\n",
      "   id     name  age                email  active\n",
      "0   1    Alice   25    alice@example.com    True\n",
      "1   2      Bob   30      bob@example.com    True\n",
      "2   3  Charlie   35  charlie@example.com   False\n",
      "3   4    Diana   28    diana@example.com    True\n",
      "4   5      Eve   32      eve@example.com    True\n",
      "\n",
      "Data types:\n",
      "id         int64\n",
      "name      object\n",
      "age        int64\n",
      "email     object\n",
      "active      bool\n",
      "dtype: object\n"
     ]
    }
   ],
   "source": [
    "with tp.PickleStorage(\"./data_pickle\") as pickle_storage:\n",
    "    # Store DataFrame\n",
    "    pickle_storage[\"users\"] = users_df\n",
    "\n",
    "    print(f\"Stored {len(pickle_storage)} tables\")\n",
    "\n",
    "    # Load DataFrame\n",
    "    loaded_users = pickle_storage[\"users\"]\n",
    "    print(\"\\nLoaded from Pickle:\")\n",
    "    print(loaded_users)\n",
    "\n",
    "    # Data types are perfectly preserved\n",
    "    print(\"\\nData types:\")\n",
    "    print(loaded_users.dtypes)"
   ]
  }
 ],
 "metadata": {
  "kernelspec": {
   "display_name": "Python 3",
   "language": "python",
   "name": "python3"
  },
  "language_info": {
   "codemirror_mode": {
    "name": "ipython",
    "version": 3
   },
   "file_extension": ".py",
   "mimetype": "text/x-python",
   "name": "python",
   "nbconvert_exporter": "python",
   "pygments_lexer": "ipython3",
   "version": "3.11.13"
  }
 },
 "nbformat": 4,
 "nbformat_minor": 4
}
