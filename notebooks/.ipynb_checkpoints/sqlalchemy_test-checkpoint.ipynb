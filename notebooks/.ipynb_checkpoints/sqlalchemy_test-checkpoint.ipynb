{
 "cells": [
  {
   "cell_type": "code",
   "execution_count": 2,
   "id": "e9470bbe",
   "metadata": {},
   "outputs": [],
   "source": [
    "import sqlalchemy as sa\n",
    "import pandas as pd\n",
    "\n",
    "from creds import postgres_url\n",
    "\n",
    "# pip install psycopg2-binary\n",
    "engine = sa.create_engine(postgres_url)"
   ]
  },
  {
   "cell_type": "code",
   "execution_count": 3,
   "id": "6a285de8",
   "metadata": {},
   "outputs": [],
   "source": [
    "pd.read_sql('people', engine).to_sql('peoples', engine, if_exists='replace', index=False)"
   ]
  },
  {
   "cell_type": "code",
   "execution_count": 4,
   "id": "d023affc",
   "metadata": {},
   "outputs": [
    {
     "data": {
      "text/html": [
       "<div>\n",
       "<style scoped>\n",
       "    .dataframe tbody tr th:only-of-type {\n",
       "        vertical-align: middle;\n",
       "    }\n",
       "\n",
       "    .dataframe tbody tr th {\n",
       "        vertical-align: top;\n",
       "    }\n",
       "\n",
       "    .dataframe thead th {\n",
       "        text-align: right;\n",
       "    }\n",
       "</style>\n",
       "<table border=\"1\" class=\"dataframe\">\n",
       "  <thead>\n",
       "    <tr style=\"text-align: right;\">\n",
       "      <th></th>\n",
       "      <th>id</th>\n",
       "      <th>name</th>\n",
       "      <th>age</th>\n",
       "      <th>address_id</th>\n",
       "    </tr>\n",
       "  </thead>\n",
       "  <tbody>\n",
       "    <tr>\n",
       "      <th>0</th>\n",
       "      <td>1</td>\n",
       "      <td>Olivia</td>\n",
       "      <td>17</td>\n",
       "      <td>1</td>\n",
       "    </tr>\n",
       "    <tr>\n",
       "      <th>1</th>\n",
       "      <td>4</td>\n",
       "      <td>Noah</td>\n",
       "      <td>20</td>\n",
       "      <td>2</td>\n",
       "    </tr>\n",
       "    <tr>\n",
       "      <th>2</th>\n",
       "      <td>2</td>\n",
       "      <td>Liam</td>\n",
       "      <td>19</td>\n",
       "      <td>1</td>\n",
       "    </tr>\n",
       "    <tr>\n",
       "      <th>3</th>\n",
       "      <td>3</td>\n",
       "      <td>Emma</td>\n",
       "      <td>20</td>\n",
       "      <td>2</td>\n",
       "    </tr>\n",
       "  </tbody>\n",
       "</table>\n",
       "</div>"
      ],
      "text/plain": [
       "   id    name  age  address_id\n",
       "0   1  Olivia   17           1\n",
       "1   4    Noah   20           2\n",
       "2   2    Liam   19           1\n",
       "3   3    Emma   20           2"
      ]
     },
     "execution_count": 4,
     "metadata": {},
     "output_type": "execute_result"
    }
   ],
   "source": [
    "df = pd.read_sql('peoples', engine)\n",
    "df"
   ]
  },
  {
   "cell_type": "code",
   "execution_count": 27,
   "id": "d7f5ee78",
   "metadata": {},
   "outputs": [],
   "source": [
    "class IDataLayer:\n",
    "    def store(self, df: pd.DataFrame, name: str) -> None:\n",
    "        pass\n",
    "    \n",
    "    def load(self, name: str) -> pd.DataFrame:\n",
    "        pass\n",
    "    \n",
    "    \n",
    "class SqlDataLayer(IDataLayer):\n",
    "    def __init__(self, engine):\n",
    "        self.engine = engine\n",
    "        \n",
    "    def store(self, df: pd.DataFrame, name: str) -> None:\n",
    "        store_df_sql(df, name, self.engine)\n",
    "    \n",
    "    def load(self, name: str) -> pd.DataFrame:\n",
    "        return load_df_sql(name, self.engine)\n",
    "    \n",
    "\n",
    "def df_metadata(df: pd.DataFrame) -> pd.DataFrame:\n",
    "    columns = pd.DataFrame({'column': df.columns,\n",
    "                            'index': False,\n",
    "                            'datatype': [str(dt) for dt in df.dtypes]})\n",
    "    indexes = pd.DataFrame({'column': [f'_no_name_{i}' if name==None else name for i, name in enumerate(df.index.names)],\n",
    "                            'index': True,\n",
    "                            'datatype': str(df.index.dtype) if len(df.index.names)==1\n",
    "                                            else [str(dt) for dt in df.index.dtypes]})\n",
    "    return indexes.append(columns).reset_index(drop=True)\n",
    "\n",
    "        \n",
    "def unname_no_names(df) -> None:\n",
    "    if len(df.index.names)==1:\n",
    "        if df.index.name == '_no_name':\n",
    "            df.index.name = None\n",
    "    else:\n",
    "        df.index.names = [None if name==f'_no_name_{i}' else name for i, name in enumerate(df.index.names)]\n",
    "    \n",
    "    \n",
    "def name_no_names(df) -> None:\n",
    "    if len(df.index.names)==1:\n",
    "        if df.index.name == None:\n",
    "            df.index.name = '_no_name'\n",
    "    else:\n",
    "        df.index.names = [f'_no_name_{i}' if name==None else '_no_name_' for i, name in enumerate(df.index.names)]\n",
    "    \n",
    "    \n",
    "def store_df_sql(df: pd.DataFrame, table_name: str, engine: sa.engine.Engine) -> None:\n",
    "    df = df.copy()\n",
    "    name_no_names(df)\n",
    "    metadata = df_metadata(df)\n",
    "    df.to_sql(table_name, engine, if_exists='replace')\n",
    "    metadata.to_sql(f'_{table_name}_metadata', engine, if_exists='replace', index=False)\n",
    "    \n",
    "    \n",
    "def cast_type(series):\n",
    "    return [pd.core.dtypes.cast.pandas_dtype(n) for n in series]\n",
    "\n",
    "\n",
    "def read_cast_metadata_sql(table_name, engine):\n",
    "    meta = pd.read_sql(table_name, engine)\n",
    "    meta['datatype'] = cast_type(meta['datatype'])\n",
    "    return meta\n",
    "\n",
    "\n",
    "def convert_meta_to_dict(meta: pd.DataFrame) -> dict:\n",
    "    return {col: typ for col, typ in zip(meta['column'], meta['datatype'])}\n",
    "\n",
    "\n",
    "def load_df_sql(table_name, engine):\n",
    "    meta_name = f'_{table_name}_metadata'\n",
    "    metadata = read_cast_metadata(meta_name, engine)\n",
    "    types = convert_meta_to_dict(metadata)\n",
    "    indexes = list(metadata['column'][metadata['index']==True])\n",
    "    df = pd.read_sql(table_name, engine).astype(types).set_index(indexes)\n",
    "    unname_no_names(df)\n",
    "    return df"
   ]
  },
  {
   "cell_type": "code",
   "execution_count": 28,
   "id": "1efb63ab",
   "metadata": {},
   "outputs": [
    {
     "ename": "TypeError",
     "evalue": "store() takes 2 positional arguments but 3 were given",
     "output_type": "error",
     "traceback": [
      "\u001b[0;31m---------------------------------------------------------------------------\u001b[0m",
      "\u001b[0;31mTypeError\u001b[0m                                 Traceback (most recent call last)",
      "\u001b[0;32m/var/folders/jg/gzz9l7gj4l903wx6s2nrbc400000gn/T/ipykernel_1504/3456206684.py\u001b[0m in \u001b[0;36m<module>\u001b[0;34m\u001b[0m\n\u001b[1;32m      1\u001b[0m \u001b[0mdl\u001b[0m \u001b[0;34m=\u001b[0m \u001b[0mSqlDataLayer\u001b[0m\u001b[0;34m(\u001b[0m\u001b[0mengine\u001b[0m\u001b[0;34m)\u001b[0m\u001b[0;34m\u001b[0m\u001b[0;34m\u001b[0m\u001b[0m\n\u001b[0;32m----> 2\u001b[0;31m \u001b[0mdl\u001b[0m\u001b[0;34m.\u001b[0m\u001b[0mstore\u001b[0m\u001b[0;34m(\u001b[0m\u001b[0mdf\u001b[0m\u001b[0;34m,\u001b[0m \u001b[0;34m'peoples'\u001b[0m\u001b[0;34m)\u001b[0m\u001b[0;34m\u001b[0m\u001b[0;34m\u001b[0m\u001b[0m\n\u001b[0m\u001b[1;32m      3\u001b[0m \u001b[0mdf\u001b[0m\u001b[0;34m\u001b[0m\u001b[0;34m\u001b[0m\u001b[0m\n",
      "\u001b[0;31mTypeError\u001b[0m: store() takes 2 positional arguments but 3 were given"
     ]
    }
   ],
   "source": [
    "dl = SqlDataLayer(engine)\n",
    "dl.store(df, 'peoples')\n",
    "df"
   ]
  },
  {
   "cell_type": "code",
   "execution_count": 26,
   "id": "7083f6df",
   "metadata": {},
   "outputs": [
    {
     "data": {
      "text/html": [
       "<div>\n",
       "<style scoped>\n",
       "    .dataframe tbody tr th:only-of-type {\n",
       "        vertical-align: middle;\n",
       "    }\n",
       "\n",
       "    .dataframe tbody tr th {\n",
       "        vertical-align: top;\n",
       "    }\n",
       "\n",
       "    .dataframe thead th {\n",
       "        text-align: right;\n",
       "    }\n",
       "</style>\n",
       "<table border=\"1\" class=\"dataframe\">\n",
       "  <thead>\n",
       "    <tr style=\"text-align: right;\">\n",
       "      <th></th>\n",
       "      <th>_no_name_0</th>\n",
       "      <th>_no_name_1</th>\n",
       "      <th>name</th>\n",
       "      <th>age</th>\n",
       "      <th>address_id</th>\n",
       "    </tr>\n",
       "  </thead>\n",
       "  <tbody>\n",
       "    <tr>\n",
       "      <th>0</th>\n",
       "      <td>0</td>\n",
       "      <td>1</td>\n",
       "      <td>Olivia</td>\n",
       "      <td>17</td>\n",
       "      <td>1</td>\n",
       "    </tr>\n",
       "    <tr>\n",
       "      <th>1</th>\n",
       "      <td>1</td>\n",
       "      <td>4</td>\n",
       "      <td>Noah</td>\n",
       "      <td>20</td>\n",
       "      <td>2</td>\n",
       "    </tr>\n",
       "    <tr>\n",
       "      <th>2</th>\n",
       "      <td>2</td>\n",
       "      <td>2</td>\n",
       "      <td>Liam</td>\n",
       "      <td>19</td>\n",
       "      <td>1</td>\n",
       "    </tr>\n",
       "    <tr>\n",
       "      <th>3</th>\n",
       "      <td>3</td>\n",
       "      <td>3</td>\n",
       "      <td>Emma</td>\n",
       "      <td>20</td>\n",
       "      <td>2</td>\n",
       "    </tr>\n",
       "  </tbody>\n",
       "</table>\n",
       "</div>"
      ],
      "text/plain": [
       "   _no_name_0  _no_name_1    name  age  address_id\n",
       "0           0           1  Olivia   17           1\n",
       "1           1           4    Noah   20           2\n",
       "2           2           2    Liam   19           1\n",
       "3           3           3    Emma   20           2"
      ]
     },
     "execution_count": 26,
     "metadata": {},
     "output_type": "execute_result"
    }
   ],
   "source": [
    "pd.read_sql('peoples', engine)"
   ]
  },
  {
   "cell_type": "code",
   "execution_count": 20,
   "id": "38c85278",
   "metadata": {},
   "outputs": [
    {
     "data": {
      "text/html": [
       "<div>\n",
       "<style scoped>\n",
       "    .dataframe tbody tr th:only-of-type {\n",
       "        vertical-align: middle;\n",
       "    }\n",
       "\n",
       "    .dataframe tbody tr th {\n",
       "        vertical-align: top;\n",
       "    }\n",
       "\n",
       "    .dataframe thead th {\n",
       "        text-align: right;\n",
       "    }\n",
       "</style>\n",
       "<table border=\"1\" class=\"dataframe\">\n",
       "  <thead>\n",
       "    <tr style=\"text-align: right;\">\n",
       "      <th></th>\n",
       "      <th>column</th>\n",
       "      <th>index</th>\n",
       "      <th>datatype</th>\n",
       "    </tr>\n",
       "  </thead>\n",
       "  <tbody>\n",
       "    <tr>\n",
       "      <th>0</th>\n",
       "      <td>_no_name</td>\n",
       "      <td>True</td>\n",
       "      <td>int64</td>\n",
       "    </tr>\n",
       "    <tr>\n",
       "      <th>1</th>\n",
       "      <td>id</td>\n",
       "      <td>False</td>\n",
       "      <td>int64</td>\n",
       "    </tr>\n",
       "    <tr>\n",
       "      <th>2</th>\n",
       "      <td>name</td>\n",
       "      <td>False</td>\n",
       "      <td>object</td>\n",
       "    </tr>\n",
       "    <tr>\n",
       "      <th>3</th>\n",
       "      <td>age</td>\n",
       "      <td>False</td>\n",
       "      <td>int64</td>\n",
       "    </tr>\n",
       "    <tr>\n",
       "      <th>4</th>\n",
       "      <td>address_id</td>\n",
       "      <td>False</td>\n",
       "      <td>int64</td>\n",
       "    </tr>\n",
       "  </tbody>\n",
       "</table>\n",
       "</div>"
      ],
      "text/plain": [
       "       column  index datatype\n",
       "0    _no_name   True    int64\n",
       "1          id  False    int64\n",
       "2        name  False   object\n",
       "3         age  False    int64\n",
       "4  address_id  False    int64"
      ]
     },
     "execution_count": 20,
     "metadata": {},
     "output_type": "execute_result"
    }
   ],
   "source": [
    "pd.read_sql_table('_peoples_metadata', engine)"
   ]
  },
  {
   "cell_type": "code",
   "execution_count": 21,
   "id": "590c5cdf",
   "metadata": {},
   "outputs": [
    {
     "data": {
      "text/html": [
       "<div>\n",
       "<style scoped>\n",
       "    .dataframe tbody tr th:only-of-type {\n",
       "        vertical-align: middle;\n",
       "    }\n",
       "\n",
       "    .dataframe tbody tr th {\n",
       "        vertical-align: top;\n",
       "    }\n",
       "\n",
       "    .dataframe thead th {\n",
       "        text-align: right;\n",
       "    }\n",
       "</style>\n",
       "<table border=\"1\" class=\"dataframe\">\n",
       "  <thead>\n",
       "    <tr style=\"text-align: right;\">\n",
       "      <th></th>\n",
       "      <th>id</th>\n",
       "      <th>name</th>\n",
       "      <th>age</th>\n",
       "      <th>address_id</th>\n",
       "    </tr>\n",
       "  </thead>\n",
       "  <tbody>\n",
       "    <tr>\n",
       "      <th>0</th>\n",
       "      <td>1</td>\n",
       "      <td>Olivia</td>\n",
       "      <td>17</td>\n",
       "      <td>1</td>\n",
       "    </tr>\n",
       "    <tr>\n",
       "      <th>1</th>\n",
       "      <td>4</td>\n",
       "      <td>Noah</td>\n",
       "      <td>20</td>\n",
       "      <td>2</td>\n",
       "    </tr>\n",
       "    <tr>\n",
       "      <th>2</th>\n",
       "      <td>2</td>\n",
       "      <td>Liam</td>\n",
       "      <td>19</td>\n",
       "      <td>1</td>\n",
       "    </tr>\n",
       "    <tr>\n",
       "      <th>3</th>\n",
       "      <td>3</td>\n",
       "      <td>Emma</td>\n",
       "      <td>20</td>\n",
       "      <td>2</td>\n",
       "    </tr>\n",
       "  </tbody>\n",
       "</table>\n",
       "</div>"
      ],
      "text/plain": [
       "   id    name  age  address_id\n",
       "0   1  Olivia   17           1\n",
       "1   4    Noah   20           2\n",
       "2   2    Liam   19           1\n",
       "3   3    Emma   20           2"
      ]
     },
     "execution_count": 21,
     "metadata": {},
     "output_type": "execute_result"
    }
   ],
   "source": [
    "restore_df('peoples', engine)"
   ]
  },
  {
   "cell_type": "code",
   "execution_count": 22,
   "id": "5cb59fac",
   "metadata": {},
   "outputs": [],
   "source": [
    "df = df.reset_index().set_index(['index', 'id'])"
   ]
  },
  {
   "cell_type": "code",
   "execution_count": 23,
   "id": "f9fd49ed",
   "metadata": {},
   "outputs": [
    {
     "data": {
      "text/html": [
       "<div>\n",
       "<style scoped>\n",
       "    .dataframe tbody tr th:only-of-type {\n",
       "        vertical-align: middle;\n",
       "    }\n",
       "\n",
       "    .dataframe tbody tr th {\n",
       "        vertical-align: top;\n",
       "    }\n",
       "\n",
       "    .dataframe thead th {\n",
       "        text-align: right;\n",
       "    }\n",
       "</style>\n",
       "<table border=\"1\" class=\"dataframe\">\n",
       "  <thead>\n",
       "    <tr style=\"text-align: right;\">\n",
       "      <th></th>\n",
       "      <th></th>\n",
       "      <th>name</th>\n",
       "      <th>age</th>\n",
       "      <th>address_id</th>\n",
       "    </tr>\n",
       "  </thead>\n",
       "  <tbody>\n",
       "    <tr>\n",
       "      <th>0</th>\n",
       "      <th>1</th>\n",
       "      <td>Olivia</td>\n",
       "      <td>17</td>\n",
       "      <td>1</td>\n",
       "    </tr>\n",
       "    <tr>\n",
       "      <th>1</th>\n",
       "      <th>4</th>\n",
       "      <td>Noah</td>\n",
       "      <td>20</td>\n",
       "      <td>2</td>\n",
       "    </tr>\n",
       "    <tr>\n",
       "      <th>2</th>\n",
       "      <th>2</th>\n",
       "      <td>Liam</td>\n",
       "      <td>19</td>\n",
       "      <td>1</td>\n",
       "    </tr>\n",
       "    <tr>\n",
       "      <th>3</th>\n",
       "      <th>3</th>\n",
       "      <td>Emma</td>\n",
       "      <td>20</td>\n",
       "      <td>2</td>\n",
       "    </tr>\n",
       "  </tbody>\n",
       "</table>\n",
       "</div>"
      ],
      "text/plain": [
       "       name  age  address_id\n",
       "0 1  Olivia   17           1\n",
       "1 4    Noah   20           2\n",
       "2 2    Liam   19           1\n",
       "3 3    Emma   20           2"
      ]
     },
     "execution_count": 23,
     "metadata": {},
     "output_type": "execute_result"
    }
   ],
   "source": [
    "df.index.names = [None, None]\n",
    "df"
   ]
  },
  {
   "cell_type": "code",
   "execution_count": null,
   "id": "d7d64e57",
   "metadata": {},
   "outputs": [],
   "source": [
    "df.to_sql('peoples_2', engine)\n",
    "pd.read_sql_table('peoples_2', engine)"
   ]
  },
  {
   "cell_type": "code",
   "execution_count": 24,
   "id": "198c5a82",
   "metadata": {},
   "outputs": [
    {
     "data": {
      "text/html": [
       "<div>\n",
       "<style scoped>\n",
       "    .dataframe tbody tr th:only-of-type {\n",
       "        vertical-align: middle;\n",
       "    }\n",
       "\n",
       "    .dataframe tbody tr th {\n",
       "        vertical-align: top;\n",
       "    }\n",
       "\n",
       "    .dataframe thead th {\n",
       "        text-align: right;\n",
       "    }\n",
       "</style>\n",
       "<table border=\"1\" class=\"dataframe\">\n",
       "  <thead>\n",
       "    <tr style=\"text-align: right;\">\n",
       "      <th></th>\n",
       "      <th></th>\n",
       "      <th>name</th>\n",
       "      <th>age</th>\n",
       "      <th>address_id</th>\n",
       "    </tr>\n",
       "  </thead>\n",
       "  <tbody>\n",
       "    <tr>\n",
       "      <th>0</th>\n",
       "      <th>1</th>\n",
       "      <td>Olivia</td>\n",
       "      <td>17</td>\n",
       "      <td>1</td>\n",
       "    </tr>\n",
       "    <tr>\n",
       "      <th>1</th>\n",
       "      <th>4</th>\n",
       "      <td>Noah</td>\n",
       "      <td>20</td>\n",
       "      <td>2</td>\n",
       "    </tr>\n",
       "    <tr>\n",
       "      <th>2</th>\n",
       "      <th>2</th>\n",
       "      <td>Liam</td>\n",
       "      <td>19</td>\n",
       "      <td>1</td>\n",
       "    </tr>\n",
       "    <tr>\n",
       "      <th>3</th>\n",
       "      <th>3</th>\n",
       "      <td>Emma</td>\n",
       "      <td>20</td>\n",
       "      <td>2</td>\n",
       "    </tr>\n",
       "  </tbody>\n",
       "</table>\n",
       "</div>"
      ],
      "text/plain": [
       "       name  age  address_id\n",
       "0 1  Olivia   17           1\n",
       "1 4    Noah   20           2\n",
       "2 2    Liam   19           1\n",
       "3 3    Emma   20           2"
      ]
     },
     "execution_count": 24,
     "metadata": {},
     "output_type": "execute_result"
    }
   ],
   "source": [
    "store_df(df, 'peoples', engine)\n",
    "df"
   ]
  },
  {
   "cell_type": "code",
   "execution_count": 25,
   "id": "c5fce7ab",
   "metadata": {},
   "outputs": [
    {
     "data": {
      "text/html": [
       "<div>\n",
       "<style scoped>\n",
       "    .dataframe tbody tr th:only-of-type {\n",
       "        vertical-align: middle;\n",
       "    }\n",
       "\n",
       "    .dataframe tbody tr th {\n",
       "        vertical-align: top;\n",
       "    }\n",
       "\n",
       "    .dataframe thead th {\n",
       "        text-align: right;\n",
       "    }\n",
       "</style>\n",
       "<table border=\"1\" class=\"dataframe\">\n",
       "  <thead>\n",
       "    <tr style=\"text-align: right;\">\n",
       "      <th></th>\n",
       "      <th></th>\n",
       "      <th>name</th>\n",
       "      <th>age</th>\n",
       "      <th>address_id</th>\n",
       "    </tr>\n",
       "  </thead>\n",
       "  <tbody>\n",
       "    <tr>\n",
       "      <th>0</th>\n",
       "      <th>1</th>\n",
       "      <td>Olivia</td>\n",
       "      <td>17</td>\n",
       "      <td>1</td>\n",
       "    </tr>\n",
       "    <tr>\n",
       "      <th>1</th>\n",
       "      <th>4</th>\n",
       "      <td>Noah</td>\n",
       "      <td>20</td>\n",
       "      <td>2</td>\n",
       "    </tr>\n",
       "    <tr>\n",
       "      <th>2</th>\n",
       "      <th>2</th>\n",
       "      <td>Liam</td>\n",
       "      <td>19</td>\n",
       "      <td>1</td>\n",
       "    </tr>\n",
       "    <tr>\n",
       "      <th>3</th>\n",
       "      <th>3</th>\n",
       "      <td>Emma</td>\n",
       "      <td>20</td>\n",
       "      <td>2</td>\n",
       "    </tr>\n",
       "  </tbody>\n",
       "</table>\n",
       "</div>"
      ],
      "text/plain": [
       "       name  age  address_id\n",
       "0 1  Olivia   17           1\n",
       "1 4    Noah   20           2\n",
       "2 2    Liam   19           1\n",
       "3 3    Emma   20           2"
      ]
     },
     "execution_count": 25,
     "metadata": {},
     "output_type": "execute_result"
    }
   ],
   "source": [
    "restore_df('peoples', engine)"
   ]
  },
  {
   "cell_type": "code",
   "execution_count": null,
   "id": "d9c17cf1",
   "metadata": {},
   "outputs": [],
   "source": [
    "pd.read_sql_table('_peoples_metadata', engine)"
   ]
  },
  {
   "cell_type": "code",
   "execution_count": null,
   "id": "1dce0e0a",
   "metadata": {},
   "outputs": [],
   "source": [
    "df['index'] = df.index.values"
   ]
  },
  {
   "cell_type": "code",
   "execution_count": null,
   "id": "ede2dde5",
   "metadata": {},
   "outputs": [],
   "source": [
    "df.set_index(['id', 'index'], inplace=True)"
   ]
  },
  {
   "cell_type": "code",
   "execution_count": null,
   "id": "a423c9e7",
   "metadata": {},
   "outputs": [],
   "source": [
    "df['name'] = df['name'].astype('string')"
   ]
  },
  {
   "cell_type": "code",
   "execution_count": null,
   "id": "4a06da49",
   "metadata": {},
   "outputs": [],
   "source": [
    "df"
   ]
  },
  {
   "cell_type": "code",
   "execution_count": null,
   "id": "cfd2a593",
   "metadata": {},
   "outputs": [],
   "source": [
    "df.to_sql('peoples', engine, if_exists='replace')"
   ]
  },
  {
   "cell_type": "code",
   "execution_count": null,
   "id": "8741281c",
   "metadata": {},
   "outputs": [],
   "source": [
    "pd.read_sql('peoples', engine)"
   ]
  },
  {
   "cell_type": "code",
   "execution_count": null,
   "id": "07238fbf",
   "metadata": {},
   "outputs": [],
   "source": [
    "meta = df_metadata(df)\n",
    "meta"
   ]
  },
  {
   "cell_type": "code",
   "execution_count": null,
   "id": "8b8b2022",
   "metadata": {},
   "outputs": [],
   "source": [
    "meta.to_sql('peoples_metadata', engine, if_exists='replace', index=False)"
   ]
  },
  {
   "cell_type": "code",
   "execution_count": null,
   "id": "5bf3ec2f",
   "metadata": {},
   "outputs": [],
   "source": [
    "new_meta = read_cast_metadata('_peoples_metadata', engine)\n",
    "new_meta"
   ]
  },
  {
   "cell_type": "code",
   "execution_count": null,
   "id": "9962b99d",
   "metadata": {},
   "outputs": [],
   "source": [
    "d = convert_meta_to_dict(new_meta)\n",
    "d"
   ]
  },
  {
   "cell_type": "code",
   "execution_count": null,
   "id": "c0643fa5",
   "metadata": {},
   "outputs": [],
   "source": [
    "pd.read_sql('peoples', engine)"
   ]
  },
  {
   "cell_type": "code",
   "execution_count": null,
   "id": "4b2e1976",
   "metadata": {},
   "outputs": [],
   "source": [
    "restore_df('peoples', engine)"
   ]
  },
  {
   "cell_type": "code",
   "execution_count": null,
   "id": "610f7c4f",
   "metadata": {},
   "outputs": [],
   "source": [
    "indexed = list(new_meta['column'][new_meta['index']==True])\n",
    "indexed"
   ]
  },
  {
   "cell_type": "code",
   "execution_count": null,
   "id": "91e0d71f",
   "metadata": {},
   "outputs": [],
   "source": [
    "pd.read_sql('peoples', engine)"
   ]
  },
  {
   "cell_type": "code",
   "execution_count": null,
   "id": "46d6d0bb",
   "metadata": {},
   "outputs": [],
   "source": [
    "pd.read_sql('peoples', engine).astype(d).set_index(indexed)"
   ]
  },
  {
   "cell_type": "code",
   "execution_count": null,
   "id": "cec588ed",
   "metadata": {},
   "outputs": [],
   "source": [
    "np.dtype('int64')"
   ]
  },
  {
   "cell_type": "code",
   "execution_count": null,
   "id": "6233b657",
   "metadata": {},
   "outputs": [],
   "source": []
  }
 ],
 "metadata": {
  "kernelspec": {
   "display_name": "Python 3 (ipykernel)",
   "language": "python",
   "name": "python3"
  },
  "language_info": {
   "codemirror_mode": {
    "name": "ipython",
    "version": 3
   },
   "file_extension": ".py",
   "mimetype": "text/x-python",
   "name": "python",
   "nbconvert_exporter": "python",
   "pygments_lexer": "ipython3",
   "version": "3.9.7"
  }
 },
 "nbformat": 4,
 "nbformat_minor": 5
}
